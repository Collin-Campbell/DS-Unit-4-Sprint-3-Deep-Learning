{
  "nbformat": 4,
  "nbformat_minor": 0,
  "metadata": {
    "kernelspec": {
      "display_name": "U4-S2-NNF-DS10",
      "language": "python",
      "name": "u4-s2-nnf-ds10"
    },
    "language_info": {
      "codemirror_mode": {
        "name": "ipython",
        "version": 3
      },
      "file_extension": ".py",
      "mimetype": "text/x-python",
      "name": "python",
      "nbconvert_exporter": "python",
      "pygments_lexer": "ipython3",
      "version": "3.7.6"
    },
    "nteract": {
      "version": "0.23.1"
    },
    "colab": {
      "name": "LS_DS_432_Convolution_Neural_Networks_Assignment.ipynb",
      "provenance": [],
      "collapsed_sections": [],
      "include_colab_link": true
    }
  },
  "cells": [
    {
      "cell_type": "markdown",
      "metadata": {
        "id": "view-in-github",
        "colab_type": "text"
      },
      "source": [
        "<a href=\"https://colab.research.google.com/github/Collin-Campbell/DS-Unit-4-Sprint-3-Deep-Learning/blob/main/module2-convolutional-neural-networks/LS_DS_432_Convolution_Neural_Networks_Assignment.ipynb\" target=\"_parent\"><img src=\"https://colab.research.google.com/assets/colab-badge.svg\" alt=\"Open In Colab\"/></a>"
      ]
    },
    {
      "cell_type": "markdown",
      "metadata": {
        "id": "fc4yMj7mtCAZ"
      },
      "source": [
        "<img align=\"left\" src=\"https://lever-client-logos.s3.amazonaws.com/864372b1-534c-480e-acd5-9711f850815c-1524247202159.png\" width=200>\n",
        "<br></br>\n",
        "<br></br>\n",
        "\n",
        "## *Data Science Unit 4 Sprint 3 Assignment 2*\n",
        "# Convolutional Neural Networks (CNNs)"
      ]
    },
    {
      "cell_type": "markdown",
      "metadata": {
        "id": "0lfZdD_cp1t5"
      },
      "source": [
        "# Assignment\n",
        "\n",
        "- <a href=\"#p1\">Part 1:</a> Pre-Trained Model\n",
        "- <a href=\"#p2\">Part 2:</a> Custom CNN Model\n",
        "- <a href=\"#p3\">Part 3:</a> CNN with Data Augmentation\n",
        "\n",
        "\n",
        "You will apply three different CNN models to a binary image classification model using Keras. Classify images of Mountains (`./data/train/mountain/*`) and images of forests (`./data/train/forest/*`). Treat mountains as the positive class (1) and the forest images as the negative (zero). \n",
        "\n",
        "|Mountain (+)|Forest (-)|\n",
        "|---|---|\n",
        "|![](https://github.com/LambdaSchool/DS-Unit-4-Sprint-3-Deep-Learning/blob/main/module2-convolutional-neural-networks/data/train/mountain/art1131.jpg?raw=1)|![](https://github.com/LambdaSchool/DS-Unit-4-Sprint-3-Deep-Learning/blob/main/module2-convolutional-neural-networks/data/validation/forest/cdmc317.jpg?raw=1)|\n",
        "\n",
        "The problem is relatively difficult given that the sample is tiny: there are about 350 observations per class. This sample size might be something that you can expect with prototyping an image classification problem/solution at work. Get accustomed to evaluating several different possible models."
      ]
    },
    {
      "cell_type": "markdown",
      "metadata": {
        "id": "1eawBP-otCAb"
      },
      "source": [
        "# Pre - Trained Model\n",
        "<a id=\"p1\"></a>\n",
        "\n",
        "Load a pretrained network from Keras, [ResNet50](https://tfhub.dev/google/imagenet/resnet_v1_50/classification/1) - a 50 layer deep network trained to recognize [1000 objects](https://storage.googleapis.com/download.tensorflow.org/data/ImageNetLabels.txt). Starting usage:\n",
        "\n",
        "```python\n",
        "import numpy as np\n",
        "\n",
        "from tensorflow.keras.applications.resnet50 import ResNet50\n",
        "from tensorflow.keras.preprocessing import image\n",
        "from tensorflow.keras.applications.resnet50 import preprocess_input, decode_predictions\n",
        "\n",
        "from tensorflow.keras.layers import Dense, GlobalAveragePooling2D\n",
        "from tensorflow.keras.models import Model # This is the functional API\n",
        "\n",
        "resnet = ResNet50(weights='imagenet', include_top=False)\n",
        "\n",
        "```\n",
        "\n",
        "The `include_top` parameter in `ResNet50` will remove the full connected layers from the ResNet model. The next step is to turn off the training of the ResNet layers. We want to use the learned parameters without updating them in future training passes. \n",
        "\n",
        "```python\n",
        "for layer in resnet.layers:\n",
        "    layer.trainable = False\n",
        "```\n",
        "\n",
        "Using the Keras functional API, we will need to additional additional full connected layers to our model. We we removed the top layers, we removed all preivous fully connected layers. In other words, we kept only the feature processing portions of our network. You can expert with additional layers beyond what's listed here. The `GlobalAveragePooling2D` layer functions as a really fancy flatten function by taking the average of each of the last convolutional layer outputs (which is two dimensional still). \n",
        "\n",
        "```python\n",
        "x = resnet.output\n",
        "x = GlobalAveragePooling2D()(x) # This layer is a really fancy flatten\n",
        "x = Dense(1024, activation='relu')(x)\n",
        "predictions = Dense(1, activation='sigmoid')(x)\n",
        "model = Model(resnet.input, predictions)\n",
        "```\n",
        "\n",
        "Your assignment is to apply the transfer learning above to classify images of Mountains (`./data/train/mountain/*`) and images of forests (`./data/train/forest/*`). Treat mountains as the positive class (1) and the forest images as the negative (zero). \n",
        "\n",
        "Steps to complete assignment: \n",
        "1. Load in Image Data into numpy arrays (`X`) \n",
        "2. Create a `y` for the labels\n",
        "3. Train your model with pre-trained layers from resnet\n",
        "4. Report your model's accuracy"
      ]
    },
    {
      "cell_type": "markdown",
      "metadata": {
        "id": "CLdGdXCatCAb"
      },
      "source": [
        "## Load in Data\n",
        "\n",
        "This surprisingly more difficult than it seems, because you are working with directories of images instead of a single file. This boiler plate will help you download a zipped version of the directory of images. The directory is organized into \"train\" and \"validation\" which you can use inside an `ImageGenerator` class to stream batches of images thru your model.  \n"
      ]
    },
    {
      "cell_type": "markdown",
      "metadata": {
        "id": "moRVuHUqtCAc"
      },
      "source": [
        "### Download & Summarize the Data\n",
        "\n",
        "This step is completed for you. Just run the cells and review the results. "
      ]
    },
    {
      "cell_type": "code",
      "metadata": {
        "id": "AR66H8o9tCAc",
        "colab": {
          "base_uri": "https://localhost:8080/"
        },
        "outputId": "39b83d8d-1984-4d2e-c371-1f288db1cd6c"
      },
      "source": [
        "import tensorflow as tf\n",
        "import os\n",
        "\n",
        "_URL = 'https://github.com/LambdaSchool/DS-Unit-4-Sprint-3-Deep-Learning/blob/main/module2-convolutional-neural-networks/data.zip?raw=true'\n",
        "\n",
        "path_to_zip = tf.keras.utils.get_file('./data.zip', origin=_URL, extract=True)\n",
        "PATH = os.path.join(os.path.dirname(path_to_zip), 'data')"
      ],
      "execution_count": 1,
      "outputs": [
        {
          "output_type": "stream",
          "text": [
            "Downloading data from https://github.com/LambdaSchool/DS-Unit-4-Sprint-3-Deep-Learning/blob/main/module2-convolutional-neural-networks/data.zip?raw=true\n",
            "42172416/42170838 [==============================] - 0s 0us/step\n"
          ],
          "name": "stdout"
        }
      ]
    },
    {
      "cell_type": "code",
      "metadata": {
        "id": "MNFsIu_KtCAg"
      },
      "source": [
        "train_dir = os.path.join(PATH, 'train')\n",
        "validation_dir = os.path.join(PATH, 'validation')"
      ],
      "execution_count": 2,
      "outputs": []
    },
    {
      "cell_type": "code",
      "metadata": {
        "id": "OsI9BQLotCAj"
      },
      "source": [
        "train_mountain_dir = os.path.join(train_dir, 'mountain')  # directory with our training cat pictures\n",
        "train_forest_dir = os.path.join(train_dir, 'forest')  # directory with our training dog pictures\n",
        "validation_mountain_dir = os.path.join(validation_dir, 'mountain')  # directory with our validation cat pictures\n",
        "validation_forest_dir = os.path.join(validation_dir, 'forest')  # directory with our validation dog pictures"
      ],
      "execution_count": 3,
      "outputs": []
    },
    {
      "cell_type": "code",
      "metadata": {
        "id": "NUs1e5-XtCAl"
      },
      "source": [
        "num_mountain_tr = len(os.listdir(train_mountain_dir))\n",
        "num_forest_tr = len(os.listdir(train_forest_dir))\n",
        "\n",
        "num_mountain_val = len(os.listdir(validation_mountain_dir))\n",
        "num_forest_val = len(os.listdir(validation_forest_dir))\n",
        "\n",
        "total_train = num_mountain_tr + num_forest_tr\n",
        "total_val = num_mountain_val + num_forest_val"
      ],
      "execution_count": 4,
      "outputs": []
    },
    {
      "cell_type": "code",
      "metadata": {
        "id": "ZmklbgSMtCAn",
        "colab": {
          "base_uri": "https://localhost:8080/"
        },
        "outputId": "7eabe7ed-ffa3-4973-99b9-dbfa6da06ab2"
      },
      "source": [
        "print('total training mountain images:', num_mountain_tr)\n",
        "print('total training forest images:', num_forest_tr)\n",
        "\n",
        "print('total validation mountain images:', num_mountain_val)\n",
        "print('total validation forest images:', num_forest_val)\n",
        "print(\"--\")\n",
        "print(\"Total training images:\", total_train)\n",
        "print(\"Total validation images:\", total_val)"
      ],
      "execution_count": 5,
      "outputs": [
        {
          "output_type": "stream",
          "text": [
            "total training mountain images: 254\n",
            "total training forest images: 270\n",
            "total validation mountain images: 125\n",
            "total validation forest images: 62\n",
            "--\n",
            "Total training images: 524\n",
            "Total validation images: 187\n"
          ],
          "name": "stdout"
        }
      ]
    },
    {
      "cell_type": "markdown",
      "metadata": {
        "id": "dQ4ag4ultCAq"
      },
      "source": [
        "### Keras `ImageGenerator` to Process the Data\n",
        "\n",
        "This step is completed for you, but please review the code. The `ImageGenerator` class reads in batches of data from a directory and pass them to the model one batch at a time. Just like large text files, this method is advantageous, because it stifles the need to load a bunch of images into memory. \n",
        "\n",
        "Check out the documentation for this class method: [Keras `ImageGenerator` Class](https://keras.io/preprocessing/image/#imagedatagenerator-class). You'll expand it's use in the third assignment objective."
      ]
    },
    {
      "cell_type": "code",
      "metadata": {
        "id": "67i9IW49tCAq"
      },
      "source": [
        "batch_size = 16\n",
        "epochs = 50\n",
        "IMG_HEIGHT = 224\n",
        "IMG_WIDTH = 224"
      ],
      "execution_count": 6,
      "outputs": []
    },
    {
      "cell_type": "code",
      "metadata": {
        "id": "B1wNKMo1tCAt"
      },
      "source": [
        "from tensorflow.keras.preprocessing.image import ImageDataGenerator\n",
        "\n",
        "train_image_generator = ImageDataGenerator(rescale=1./255) # Generator for our training data\n",
        "validation_image_generator = ImageDataGenerator(rescale=1./255) # Generator for our validation data"
      ],
      "execution_count": 7,
      "outputs": []
    },
    {
      "cell_type": "code",
      "metadata": {
        "id": "ndsuM4L9tCAv",
        "colab": {
          "base_uri": "https://localhost:8080/"
        },
        "outputId": "5aeb2a1f-3631-450b-d3e4-20b35136e26a"
      },
      "source": [
        "train_data_gen = train_image_generator.flow_from_directory(batch_size=batch_size,\n",
        "                                                           directory=train_dir,\n",
        "                                                           shuffle=True,\n",
        "                                                           target_size=(IMG_HEIGHT, IMG_WIDTH),\n",
        "                                                           class_mode='binary')"
      ],
      "execution_count": 8,
      "outputs": [
        {
          "output_type": "stream",
          "text": [
            "Found 533 images belonging to 2 classes.\n"
          ],
          "name": "stdout"
        }
      ]
    },
    {
      "cell_type": "code",
      "metadata": {
        "id": "9kxlk3optCAy",
        "colab": {
          "base_uri": "https://localhost:8080/"
        },
        "outputId": "30a4e82e-6a75-41a9-fddb-1df94ec7c60f"
      },
      "source": [
        "val_data_gen = validation_image_generator.flow_from_directory(batch_size=batch_size,\n",
        "                                                              directory=validation_dir,\n",
        "                                                              target_size=(IMG_HEIGHT, IMG_WIDTH),\n",
        "                                                              class_mode='binary')"
      ],
      "execution_count": 9,
      "outputs": [
        {
          "output_type": "stream",
          "text": [
            "Found 195 images belonging to 2 classes.\n"
          ],
          "name": "stdout"
        }
      ]
    },
    {
      "cell_type": "markdown",
      "metadata": {
        "id": "2l7ue6NutCA0"
      },
      "source": [
        "## Instantiate Model"
      ]
    },
    {
      "cell_type": "code",
      "metadata": {
        "id": "mKNIYOEItCA0",
        "colab": {
          "base_uri": "https://localhost:8080/"
        },
        "outputId": "e22990df-0fc6-4a15-95b0-c86bf90f7b80"
      },
      "source": [
        "import numpy as np\n",
        " \n",
        "from tensorflow.keras.applications.resnet50 import ResNet50\n",
        "from tensorflow.keras.preprocessing import image\n",
        "from tensorflow.keras.applications.resnet50 import preprocess_input, decode_predictions\n",
        " \n",
        "from tensorflow.keras.layers import Dense, GlobalAveragePooling2D\n",
        "from tensorflow.keras.models import Model # This is the functional API\n",
        " \n",
        "resnet = ResNet50(weights='imagenet', include_top=False)\n",
        " "
      ],
      "execution_count": 12,
      "outputs": [
        {
          "output_type": "stream",
          "text": [
            "Downloading data from https://storage.googleapis.com/tensorflow/keras-applications/resnet/resnet50_weights_tf_dim_ordering_tf_kernels_notop.h5\n",
            "94773248/94765736 [==============================] - 1s 0us/step\n"
          ],
          "name": "stdout"
        }
      ]
    },
    {
      "cell_type": "code",
      "metadata": {
        "id": "DrQcxZYtYkGB"
      },
      "source": [
        "for layer in resnet.layers:\n",
        "    layer.trainable = False"
      ],
      "execution_count": 13,
      "outputs": []
    },
    {
      "cell_type": "code",
      "metadata": {
        "id": "P6VyW5SgYn8L"
      },
      "source": [
        "x = resnet.output\n",
        "x = GlobalAveragePooling2D()(x) # This layer is a really fancy flatten\n",
        "x = Dense(1024, activation='relu')(x)\n",
        "predictions = Dense(1, activation='sigmoid')(x)\n",
        "model = Model(resnet.input, predictions)"
      ],
      "execution_count": 14,
      "outputs": []
    },
    {
      "cell_type": "code",
      "metadata": {
        "id": "bJMY_dVoY9IA"
      },
      "source": [
        "from keras.optimizers import Adam\n",
        "\n",
        "# Compile model\n",
        "opt = Adam(lr=0.0001)\n",
        "model.compile(optimizer=opt, loss='binary_crossentropy', metrics=['accuracy'])"
      ],
      "execution_count": 21,
      "outputs": []
    },
    {
      "cell_type": "markdown",
      "metadata": {
        "id": "BVPBWYG7tCA2"
      },
      "source": [
        "## Fit Model"
      ]
    },
    {
      "cell_type": "code",
      "metadata": {
        "id": "H4XdvWA5tCA3",
        "colab": {
          "base_uri": "https://localhost:8080/"
        },
        "outputId": "5ba51a4a-f5df-4ab5-a004-4ba8ccfe2175"
      },
      "source": [
        "history = model.fit(\n",
        "    train_data_gen,\n",
        "    steps_per_epoch=total_train // batch_size,\n",
        "    epochs=epochs,\n",
        "    validation_data=val_data_gen,\n",
        "    validation_steps=total_val // batch_size\n",
        ")"
      ],
      "execution_count": 22,
      "outputs": [
        {
          "output_type": "stream",
          "text": [
            "Epoch 1/50\n",
            "32/32 [==============================] - 99s 3s/step - loss: 0.7074 - accuracy: 0.4930 - val_loss: 0.7206 - val_accuracy: 0.3523\n",
            "Epoch 2/50\n",
            "32/32 [==============================] - 98s 3s/step - loss: 0.6609 - accuracy: 0.5768 - val_loss: 0.6083 - val_accuracy: 0.6818\n",
            "Epoch 3/50\n",
            "32/32 [==============================] - 98s 3s/step - loss: 0.6656 - accuracy: 0.5689 - val_loss: 0.7050 - val_accuracy: 0.3864\n",
            "Epoch 4/50\n",
            "32/32 [==============================] - 98s 3s/step - loss: 0.6238 - accuracy: 0.6587 - val_loss: 0.6196 - val_accuracy: 0.7955\n",
            "Epoch 5/50\n",
            "32/32 [==============================] - 98s 3s/step - loss: 0.5995 - accuracy: 0.7665 - val_loss: 0.5949 - val_accuracy: 0.7841\n",
            "Epoch 6/50\n",
            "32/32 [==============================] - 98s 3s/step - loss: 0.5818 - accuracy: 0.7745 - val_loss: 0.6004 - val_accuracy: 0.7784\n",
            "Epoch 7/50\n",
            "32/32 [==============================] - 100s 3s/step - loss: 0.5633 - accuracy: 0.7226 - val_loss: 0.5570 - val_accuracy: 0.7784\n",
            "Epoch 8/50\n",
            "32/32 [==============================] - 98s 3s/step - loss: 0.5544 - accuracy: 0.7824 - val_loss: 0.5541 - val_accuracy: 0.8125\n",
            "Epoch 9/50\n",
            "32/32 [==============================] - 98s 3s/step - loss: 0.5319 - accuracy: 0.8204 - val_loss: 0.5945 - val_accuracy: 0.7670\n",
            "Epoch 10/50\n",
            "32/32 [==============================] - 98s 3s/step - loss: 0.5239 - accuracy: 0.8403 - val_loss: 0.5842 - val_accuracy: 0.7557\n",
            "Epoch 11/50\n",
            "32/32 [==============================] - 98s 3s/step - loss: 0.5180 - accuracy: 0.8164 - val_loss: 0.5057 - val_accuracy: 0.8125\n",
            "Epoch 12/50\n",
            "32/32 [==============================] - 98s 3s/step - loss: 0.5048 - accuracy: 0.8443 - val_loss: 0.5404 - val_accuracy: 0.7727\n",
            "Epoch 13/50\n",
            "32/32 [==============================] - 99s 3s/step - loss: 0.4954 - accuracy: 0.7984 - val_loss: 0.6418 - val_accuracy: 0.6023\n",
            "Epoch 14/50\n",
            "32/32 [==============================] - 98s 3s/step - loss: 0.4768 - accuracy: 0.8084 - val_loss: 0.5257 - val_accuracy: 0.7955\n",
            "Epoch 15/50\n",
            "32/32 [==============================] - 98s 3s/step - loss: 0.4770 - accuracy: 0.8224 - val_loss: 0.4947 - val_accuracy: 0.8239\n",
            "Epoch 16/50\n",
            "32/32 [==============================] - 98s 3s/step - loss: 0.4467 - accuracy: 0.8842 - val_loss: 0.4873 - val_accuracy: 0.8352\n",
            "Epoch 17/50\n",
            "32/32 [==============================] - 99s 3s/step - loss: 0.4393 - accuracy: 0.8762 - val_loss: 0.4405 - val_accuracy: 0.8636\n",
            "Epoch 18/50\n",
            "32/32 [==============================] - 99s 3s/step - loss: 0.4310 - accuracy: 0.8723 - val_loss: 0.4470 - val_accuracy: 0.8580\n",
            "Epoch 19/50\n",
            "32/32 [==============================] - 99s 3s/step - loss: 0.4181 - accuracy: 0.8902 - val_loss: 0.4337 - val_accuracy: 0.8807\n",
            "Epoch 20/50\n",
            "32/32 [==============================] - 99s 3s/step - loss: 0.4179 - accuracy: 0.8743 - val_loss: 0.4346 - val_accuracy: 0.8580\n",
            "Epoch 21/50\n",
            "32/32 [==============================] - 98s 3s/step - loss: 0.4058 - accuracy: 0.8842 - val_loss: 0.4579 - val_accuracy: 0.8295\n",
            "Epoch 22/50\n",
            "32/32 [==============================] - 98s 3s/step - loss: 0.3948 - accuracy: 0.8902 - val_loss: 0.4018 - val_accuracy: 0.8295\n",
            "Epoch 23/50\n",
            "32/32 [==============================] - 98s 3s/step - loss: 0.3888 - accuracy: 0.8762 - val_loss: 0.5358 - val_accuracy: 0.7727\n",
            "Epoch 24/50\n",
            "32/32 [==============================] - 97s 3s/step - loss: 0.3874 - accuracy: 0.8802 - val_loss: 0.4389 - val_accuracy: 0.8409\n",
            "Epoch 25/50\n",
            "32/32 [==============================] - 98s 3s/step - loss: 0.3780 - accuracy: 0.8922 - val_loss: 0.4095 - val_accuracy: 0.8636\n",
            "Epoch 26/50\n",
            "32/32 [==============================] - 99s 3s/step - loss: 0.3687 - accuracy: 0.9102 - val_loss: 0.4395 - val_accuracy: 0.8352\n",
            "Epoch 27/50\n",
            "32/32 [==============================] - 97s 3s/step - loss: 0.3844 - accuracy: 0.8623 - val_loss: 0.3927 - val_accuracy: 0.8636\n",
            "Epoch 28/50\n",
            "32/32 [==============================] - 99s 3s/step - loss: 0.3597 - accuracy: 0.9043 - val_loss: 0.3932 - val_accuracy: 0.8636\n",
            "Epoch 29/50\n",
            "32/32 [==============================] - 97s 3s/step - loss: 0.3494 - accuracy: 0.8982 - val_loss: 0.4250 - val_accuracy: 0.8409\n",
            "Epoch 30/50\n",
            "32/32 [==============================] - 98s 3s/step - loss: 0.3419 - accuracy: 0.9142 - val_loss: 0.4398 - val_accuracy: 0.8239\n",
            "Epoch 31/50\n",
            "32/32 [==============================] - 98s 3s/step - loss: 0.3426 - accuracy: 0.8982 - val_loss: 0.3696 - val_accuracy: 0.8693\n",
            "Epoch 32/50\n",
            "32/32 [==============================] - 98s 3s/step - loss: 0.3383 - accuracy: 0.9082 - val_loss: 0.3871 - val_accuracy: 0.8523\n",
            "Epoch 33/50\n",
            "32/32 [==============================] - 97s 3s/step - loss: 0.3252 - accuracy: 0.9102 - val_loss: 0.4246 - val_accuracy: 0.8352\n",
            "Epoch 34/50\n",
            "32/32 [==============================] - 98s 3s/step - loss: 0.3204 - accuracy: 0.9301 - val_loss: 0.4323 - val_accuracy: 0.8239\n",
            "Epoch 35/50\n",
            "32/32 [==============================] - 98s 3s/step - loss: 0.3091 - accuracy: 0.9142 - val_loss: 0.3473 - val_accuracy: 0.9034\n",
            "Epoch 36/50\n",
            "32/32 [==============================] - 97s 3s/step - loss: 0.3020 - accuracy: 0.9281 - val_loss: 0.3427 - val_accuracy: 0.8750\n",
            "Epoch 37/50\n",
            "32/32 [==============================] - 97s 3s/step - loss: 0.3080 - accuracy: 0.9162 - val_loss: 0.3784 - val_accuracy: 0.8466\n",
            "Epoch 38/50\n",
            "32/32 [==============================] - 97s 3s/step - loss: 0.3006 - accuracy: 0.9182 - val_loss: 0.3286 - val_accuracy: 0.9091\n",
            "Epoch 39/50\n",
            "32/32 [==============================] - 97s 3s/step - loss: 0.3072 - accuracy: 0.9082 - val_loss: 0.3243 - val_accuracy: 0.8920\n",
            "Epoch 40/50\n",
            "32/32 [==============================] - 97s 3s/step - loss: 0.3196 - accuracy: 0.8962 - val_loss: 0.3574 - val_accuracy: 0.8750\n",
            "Epoch 41/50\n",
            "32/32 [==============================] - 97s 3s/step - loss: 0.2869 - accuracy: 0.9301 - val_loss: 0.3060 - val_accuracy: 0.8977\n",
            "Epoch 42/50\n",
            "32/32 [==============================] - 97s 3s/step - loss: 0.2972 - accuracy: 0.9082 - val_loss: 0.3307 - val_accuracy: 0.9091\n",
            "Epoch 43/50\n",
            "32/32 [==============================] - 97s 3s/step - loss: 0.2799 - accuracy: 0.9202 - val_loss: 0.3593 - val_accuracy: 0.8580\n",
            "Epoch 44/50\n",
            "32/32 [==============================] - 97s 3s/step - loss: 0.2767 - accuracy: 0.9182 - val_loss: 0.3181 - val_accuracy: 0.8864\n",
            "Epoch 45/50\n",
            "32/32 [==============================] - 97s 3s/step - loss: 0.2924 - accuracy: 0.9022 - val_loss: 0.3888 - val_accuracy: 0.8466\n",
            "Epoch 46/50\n",
            "32/32 [==============================] - 99s 3s/step - loss: 0.2794 - accuracy: 0.9160 - val_loss: 0.3633 - val_accuracy: 0.8523\n",
            "Epoch 47/50\n",
            "32/32 [==============================] - 98s 3s/step - loss: 0.2699 - accuracy: 0.9222 - val_loss: 0.3292 - val_accuracy: 0.8977\n",
            "Epoch 48/50\n",
            "32/32 [==============================] - 97s 3s/step - loss: 0.2706 - accuracy: 0.9182 - val_loss: 0.3482 - val_accuracy: 0.8466\n",
            "Epoch 49/50\n",
            "32/32 [==============================] - 97s 3s/step - loss: 0.2459 - accuracy: 0.9401 - val_loss: 0.3252 - val_accuracy: 0.8636\n",
            "Epoch 50/50\n",
            "32/32 [==============================] - 97s 3s/step - loss: 0.2518 - accuracy: 0.9361 - val_loss: 0.3248 - val_accuracy: 0.8693\n"
          ],
          "name": "stdout"
        }
      ]
    },
    {
      "cell_type": "code",
      "metadata": {
        "colab": {
          "base_uri": "https://localhost:8080/",
          "height": 204
        },
        "id": "YmQ_JyFNn2eb",
        "outputId": "94d28411-0cfb-498e-9654-495e39cb3767"
      },
      "source": [
        "import seaborn as sns\n",
        "import pandas as pd\n",
        "\n",
        "batch_sizes = []\n",
        "\n",
        "for exp, result in zip([history], [\"pre-trained model\"]):\n",
        "\n",
        "  df = pd.DataFrame.from_dict(exp.history)\n",
        "  df['epoch'] = df.index.values\n",
        "  df['model_name'] = result\n",
        "\n",
        "  batch_sizes.append(df)\n",
        "\n",
        "df = pd.concat(batch_sizes)\n",
        "df['model_name'] = df['model_name'].astype('str')\n",
        "df.head()"
      ],
      "execution_count": 23,
      "outputs": [
        {
          "output_type": "execute_result",
          "data": {
            "text/html": [
              "<div>\n",
              "<style scoped>\n",
              "    .dataframe tbody tr th:only-of-type {\n",
              "        vertical-align: middle;\n",
              "    }\n",
              "\n",
              "    .dataframe tbody tr th {\n",
              "        vertical-align: top;\n",
              "    }\n",
              "\n",
              "    .dataframe thead th {\n",
              "        text-align: right;\n",
              "    }\n",
              "</style>\n",
              "<table border=\"1\" class=\"dataframe\">\n",
              "  <thead>\n",
              "    <tr style=\"text-align: right;\">\n",
              "      <th></th>\n",
              "      <th>loss</th>\n",
              "      <th>accuracy</th>\n",
              "      <th>val_loss</th>\n",
              "      <th>val_accuracy</th>\n",
              "      <th>epoch</th>\n",
              "      <th>model_name</th>\n",
              "    </tr>\n",
              "  </thead>\n",
              "  <tbody>\n",
              "    <tr>\n",
              "      <th>0</th>\n",
              "      <td>0.707440</td>\n",
              "      <td>0.493014</td>\n",
              "      <td>0.720595</td>\n",
              "      <td>0.352273</td>\n",
              "      <td>0</td>\n",
              "      <td>pre-trained model</td>\n",
              "    </tr>\n",
              "    <tr>\n",
              "      <th>1</th>\n",
              "      <td>0.660894</td>\n",
              "      <td>0.576846</td>\n",
              "      <td>0.608263</td>\n",
              "      <td>0.681818</td>\n",
              "      <td>1</td>\n",
              "      <td>pre-trained model</td>\n",
              "    </tr>\n",
              "    <tr>\n",
              "      <th>2</th>\n",
              "      <td>0.665632</td>\n",
              "      <td>0.568862</td>\n",
              "      <td>0.704980</td>\n",
              "      <td>0.386364</td>\n",
              "      <td>2</td>\n",
              "      <td>pre-trained model</td>\n",
              "    </tr>\n",
              "    <tr>\n",
              "      <th>3</th>\n",
              "      <td>0.623753</td>\n",
              "      <td>0.658683</td>\n",
              "      <td>0.619590</td>\n",
              "      <td>0.795455</td>\n",
              "      <td>3</td>\n",
              "      <td>pre-trained model</td>\n",
              "    </tr>\n",
              "    <tr>\n",
              "      <th>4</th>\n",
              "      <td>0.599477</td>\n",
              "      <td>0.766467</td>\n",
              "      <td>0.594889</td>\n",
              "      <td>0.784091</td>\n",
              "      <td>4</td>\n",
              "      <td>pre-trained model</td>\n",
              "    </tr>\n",
              "  </tbody>\n",
              "</table>\n",
              "</div>"
            ],
            "text/plain": [
              "       loss  accuracy  val_loss  val_accuracy  epoch         model_name\n",
              "0  0.707440  0.493014  0.720595      0.352273      0  pre-trained model\n",
              "1  0.660894  0.576846  0.608263      0.681818      1  pre-trained model\n",
              "2  0.665632  0.568862  0.704980      0.386364      2  pre-trained model\n",
              "3  0.623753  0.658683  0.619590      0.795455      3  pre-trained model\n",
              "4  0.599477  0.766467  0.594889      0.784091      4  pre-trained model"
            ]
          },
          "metadata": {
            "tags": []
          },
          "execution_count": 23
        }
      ]
    },
    {
      "cell_type": "code",
      "metadata": {
        "colab": {
          "base_uri": "https://localhost:8080/",
          "height": 279
        },
        "id": "54765uN2ooO9",
        "outputId": "a5d6ab6a-b7a3-4746-b1d1-1f6ab5f0f152"
      },
      "source": [
        "sns.lineplot(x='epoch', y='val_accuracy', hue='model_name', data=df);"
      ],
      "execution_count": 24,
      "outputs": [
        {
          "output_type": "display_data",
          "data": {
            "image/png": "[encoded data removed]",
            "text/plain": [
              "<Figure size 432x288 with 1 Axes>"
            ]
          },
          "metadata": {
            "tags": [],
            "needs_background": "light"
          }
        }
      ]
    },
    {
      "cell_type": "code",
      "metadata": {
        "colab": {
          "base_uri": "https://localhost:8080/",
          "height": 279
        },
        "id": "5ocpeEhhox6c",
        "outputId": "a6b95560-215d-45df-8b31-e9f6f4fa2cda"
      },
      "source": [
        "sns.lineplot(x='epoch', y='val_loss', hue='model_name', data=df);"
      ],
      "execution_count": 25,
      "outputs": [
        {
          "output_type": "display_data",
          "data": {
            "image/png": "[encoded data removed]",
            "text/plain": [
              "<Figure size 432x288 with 1 Axes>"
            ]
          },
          "metadata": {
            "tags": [],
            "needs_background": "light"
          }
        }
      ]
    },
    {
      "cell_type": "markdown",
      "metadata": {
        "id": "UPzsgS94tCA5"
      },
      "source": [
        "# Custom CNN Model\n",
        "\n",
        "In this step, write and train your own convolutional neural network using Keras. You can use any architecture that suits you as long as it has at least one convolutional and one pooling layer at the beginning of the network - you can add more if you want. "
      ]
    },
    {
      "cell_type": "code",
      "metadata": {
        "id": "hnbJJie3tCA5",
        "colab": {
          "base_uri": "https://localhost:8080/"
        },
        "outputId": "3ce253f3-542a-4e9a-c47b-4a5c67503561"
      },
      "source": [
        "from tensorflow.keras.models import Sequential, Model\n",
        "from tensorflow.keras.layers import Dense, Conv2D, MaxPooling2D, Flatten\n",
        "\n",
        "# Define the Model\n",
        "\n",
        "model2 = Sequential()\n",
        "model2.add(Conv2D(32, (3,3), activation='relu', input_shape=(224,224,3)))\n",
        "model2.add(MaxPooling2D((2,2)))\n",
        "model2.add(Conv2D(64, (3,3), activation='relu'))\n",
        "model2.add(MaxPooling2D((2,2)))\n",
        "model2.add(Conv2D(64, (3,3), activation='relu'))\n",
        "model2.add(Flatten())\n",
        "model2.add(Dense(64, activation='relu'))\n",
        "model2.add(Dense(1, activation='softmax'))\n",
        "\n",
        "model2.summary()\n"
      ],
      "execution_count": 35,
      "outputs": [
        {
          "output_type": "stream",
          "text": [
            "Model: \"sequential_3\"\n",
            "_________________________________________________________________\n",
            "Layer (type)                 Output Shape              Param #   \n",
            "=================================================================\n",
            "conv2d_6 (Conv2D)            (None, 222, 222, 32)      896       \n",
            "_________________________________________________________________\n",
            "max_pooling2d_4 (MaxPooling2 (None, 111, 111, 32)      0         \n",
            "_________________________________________________________________\n",
            "conv2d_7 (Conv2D)            (None, 109, 109, 64)      18496     \n",
            "_________________________________________________________________\n",
            "max_pooling2d_5 (MaxPooling2 (None, 54, 54, 64)        0         \n",
            "_________________________________________________________________\n",
            "conv2d_8 (Conv2D)            (None, 52, 52, 64)        36928     \n",
            "_________________________________________________________________\n",
            "flatten_2 (Flatten)          (None, 173056)            0         \n",
            "_________________________________________________________________\n",
            "dense_6 (Dense)              (None, 64)                11075648  \n",
            "_________________________________________________________________\n",
            "dense_7 (Dense)              (None, 1)                 65        \n",
            "=================================================================\n",
            "Total params: 11,132,033\n",
            "Trainable params: 11,132,033\n",
            "Non-trainable params: 0\n",
            "_________________________________________________________________\n"
          ],
          "name": "stdout"
        }
      ]
    },
    {
      "cell_type": "code",
      "metadata": {
        "id": "1P_mRtoutCA9"
      },
      "source": [
        "# Compile Model\n",
        "\n",
        "opt = Adam(lr=0.0001)\n",
        "model2.compile(optimizer=opt, loss='binary_crossentropy', metrics=['accuracy'])"
      ],
      "execution_count": 36,
      "outputs": []
    },
    {
      "cell_type": "code",
      "metadata": {
        "id": "CwM4GsaetCA_",
        "colab": {
          "base_uri": "https://localhost:8080/"
        },
        "outputId": "c3eda02b-e31d-47c7-838b-f022ddb87d38"
      },
      "source": [
        "# Fit Model\n",
        "\n",
        "history2 = model2.fit(\n",
        "    train_data_gen,\n",
        "    steps_per_epoch=total_train // batch_size,\n",
        "    epochs=epochs,\n",
        "    validation_data=val_data_gen,\n",
        "    validation_steps=total_val // batch_size\n",
        ")"
      ],
      "execution_count": 37,
      "outputs": [
        {
          "output_type": "stream",
          "text": [
            "Epoch 1/50\n",
            "32/32 [==============================] - 43s 1s/step - loss: 7.8833 - accuracy: 0.4830 - val_loss: 5.1986 - val_accuracy: 0.6591\n",
            "Epoch 2/50\n",
            "32/32 [==============================] - 43s 1s/step - loss: 7.7007 - accuracy: 0.4950 - val_loss: 5.4585 - val_accuracy: 0.6420\n",
            "Epoch 3/50\n",
            "32/32 [==============================] - 43s 1s/step - loss: 7.7920 - accuracy: 0.4890 - val_loss: 5.4585 - val_accuracy: 0.6420\n",
            "Epoch 4/50\n",
            "32/32 [==============================] - 43s 1s/step - loss: 7.8833 - accuracy: 0.4830 - val_loss: 5.3719 - val_accuracy: 0.6477\n",
            "Epoch 5/50\n",
            "32/32 [==============================] - 43s 1s/step - loss: 7.8529 - accuracy: 0.4850 - val_loss: 5.2852 - val_accuracy: 0.6534\n",
            "Epoch 6/50\n",
            "32/32 [==============================] - 43s 1s/step - loss: 7.8833 - accuracy: 0.4830 - val_loss: 5.1986 - val_accuracy: 0.6591\n",
            "Epoch 7/50\n",
            "32/32 [==============================] - 43s 1s/step - loss: 8.0355 - accuracy: 0.4731 - val_loss: 5.1120 - val_accuracy: 0.6648\n",
            "Epoch 8/50\n",
            "32/32 [==============================] - 43s 1s/step - loss: 7.9442 - accuracy: 0.4790 - val_loss: 5.3719 - val_accuracy: 0.6477\n",
            "Epoch 9/50\n",
            "32/32 [==============================] - 43s 1s/step - loss: 7.7007 - accuracy: 0.4950 - val_loss: 5.2852 - val_accuracy: 0.6534\n",
            "Epoch 10/50\n",
            "32/32 [==============================] - 43s 1s/step - loss: 7.9138 - accuracy: 0.4810 - val_loss: 5.1120 - val_accuracy: 0.6648\n",
            "Epoch 11/50\n",
            "32/32 [==============================] - 43s 1s/step - loss: 7.9138 - accuracy: 0.4810 - val_loss: 5.2852 - val_accuracy: 0.6534\n",
            "Epoch 12/50\n",
            "32/32 [==============================] - 43s 1s/step - loss: 7.8225 - accuracy: 0.4870 - val_loss: 5.5452 - val_accuracy: 0.6364\n",
            "Epoch 13/50\n",
            "32/32 [==============================] - 43s 1s/step - loss: 7.8529 - accuracy: 0.4850 - val_loss: 5.2852 - val_accuracy: 0.6534\n",
            "Epoch 14/50\n",
            "32/32 [==============================] - 43s 1s/step - loss: 8.0355 - accuracy: 0.4731 - val_loss: 5.4585 - val_accuracy: 0.6420\n",
            "Epoch 15/50\n",
            "32/32 [==============================] - 43s 1s/step - loss: 7.9138 - accuracy: 0.4810 - val_loss: 5.1986 - val_accuracy: 0.6591\n",
            "Epoch 16/50\n",
            "32/32 [==============================] - 43s 1s/step - loss: 7.7616 - accuracy: 0.4910 - val_loss: 5.1986 - val_accuracy: 0.6591\n",
            "Epoch 17/50\n",
            "32/32 [==============================] - 43s 1s/step - loss: 8.0660 - accuracy: 0.4711 - val_loss: 5.1986 - val_accuracy: 0.6591\n",
            "Epoch 18/50\n",
            "32/32 [==============================] - 43s 1s/step - loss: 7.8833 - accuracy: 0.4830 - val_loss: 5.3719 - val_accuracy: 0.6477\n",
            "Epoch 19/50\n",
            "32/32 [==============================] - 43s 1s/step - loss: 7.8225 - accuracy: 0.4870 - val_loss: 5.1986 - val_accuracy: 0.6591\n",
            "Epoch 20/50\n",
            "32/32 [==============================] - 43s 1s/step - loss: 7.9442 - accuracy: 0.4790 - val_loss: 4.9387 - val_accuracy: 0.6761\n",
            "Epoch 21/50\n",
            "32/32 [==============================] - 43s 1s/step - loss: 7.8833 - accuracy: 0.4830 - val_loss: 5.1120 - val_accuracy: 0.6648\n",
            "Epoch 22/50\n",
            "32/32 [==============================] - 43s 1s/step - loss: 7.8833 - accuracy: 0.4830 - val_loss: 5.2852 - val_accuracy: 0.6534\n",
            "Epoch 23/50\n",
            "32/32 [==============================] - 43s 1s/step - loss: 7.8529 - accuracy: 0.4850 - val_loss: 5.1986 - val_accuracy: 0.6591\n",
            "Epoch 24/50\n",
            "32/32 [==============================] - 43s 1s/step - loss: 7.8833 - accuracy: 0.4830 - val_loss: 5.1986 - val_accuracy: 0.6591\n",
            "Epoch 25/50\n",
            "32/32 [==============================] - 43s 1s/step - loss: 7.9138 - accuracy: 0.4810 - val_loss: 5.3719 - val_accuracy: 0.6477\n",
            "Epoch 26/50\n",
            "32/32 [==============================] - 43s 1s/step - loss: 7.7920 - accuracy: 0.4890 - val_loss: 5.2852 - val_accuracy: 0.6534\n",
            "Epoch 27/50\n",
            "32/32 [==============================] - 43s 1s/step - loss: 7.8833 - accuracy: 0.4830 - val_loss: 5.0253 - val_accuracy: 0.6705\n",
            "Epoch 28/50\n",
            "32/32 [==============================] - 43s 1s/step - loss: 7.8225 - accuracy: 0.4870 - val_loss: 5.5452 - val_accuracy: 0.6364\n",
            "Epoch 29/50\n",
            "32/32 [==============================] - 43s 1s/step - loss: 7.8033 - accuracy: 0.4883 - val_loss: 5.2852 - val_accuracy: 0.6534\n",
            "Epoch 30/50\n",
            "32/32 [==============================] - 43s 1s/step - loss: 7.8629 - accuracy: 0.4844 - val_loss: 5.0253 - val_accuracy: 0.6705\n",
            "Epoch 31/50\n",
            "32/32 [==============================] - 43s 1s/step - loss: 8.0051 - accuracy: 0.4750 - val_loss: 5.2852 - val_accuracy: 0.6534\n",
            "Epoch 32/50\n",
            "32/32 [==============================] - 43s 1s/step - loss: 7.7920 - accuracy: 0.4890 - val_loss: 5.4585 - val_accuracy: 0.6420\n",
            "Epoch 33/50\n",
            "32/32 [==============================] - 43s 1s/step - loss: 7.8529 - accuracy: 0.4850 - val_loss: 5.2852 - val_accuracy: 0.6534\n",
            "Epoch 34/50\n",
            "32/32 [==============================] - 43s 1s/step - loss: 7.6703 - accuracy: 0.4970 - val_loss: 5.4585 - val_accuracy: 0.6420\n",
            "Epoch 35/50\n",
            "32/32 [==============================] - 43s 1s/step - loss: 7.9138 - accuracy: 0.4810 - val_loss: 4.9387 - val_accuracy: 0.6761\n",
            "Epoch 36/50\n",
            "32/32 [==============================] - 43s 1s/step - loss: 7.9747 - accuracy: 0.4770 - val_loss: 5.1120 - val_accuracy: 0.6648\n",
            "Epoch 37/50\n",
            "32/32 [==============================] - 43s 1s/step - loss: 7.8833 - accuracy: 0.4830 - val_loss: 5.1120 - val_accuracy: 0.6648\n",
            "Epoch 38/50\n",
            "32/32 [==============================] - 43s 1s/step - loss: 7.7920 - accuracy: 0.4890 - val_loss: 5.1986 - val_accuracy: 0.6591\n",
            "Epoch 39/50\n",
            "32/32 [==============================] - 43s 1s/step - loss: 7.9442 - accuracy: 0.4790 - val_loss: 5.2852 - val_accuracy: 0.6534\n",
            "Epoch 40/50\n",
            "32/32 [==============================] - 43s 1s/step - loss: 7.8833 - accuracy: 0.4830 - val_loss: 5.1120 - val_accuracy: 0.6648\n",
            "Epoch 41/50\n",
            "32/32 [==============================] - 43s 1s/step - loss: 7.9138 - accuracy: 0.4810 - val_loss: 5.1120 - val_accuracy: 0.6648\n",
            "Epoch 42/50\n",
            "32/32 [==============================] - 43s 1s/step - loss: 7.8833 - accuracy: 0.4830 - val_loss: 5.1986 - val_accuracy: 0.6591\n",
            "Epoch 43/50\n",
            "32/32 [==============================] - 44s 1s/step - loss: 7.9138 - accuracy: 0.4810 - val_loss: 5.2852 - val_accuracy: 0.6534\n",
            "Epoch 44/50\n",
            "32/32 [==============================] - 43s 1s/step - loss: 7.8225 - accuracy: 0.4870 - val_loss: 5.1120 - val_accuracy: 0.6648\n",
            "Epoch 45/50\n",
            "32/32 [==============================] - 43s 1s/step - loss: 7.7920 - accuracy: 0.4890 - val_loss: 5.1986 - val_accuracy: 0.6591\n",
            "Epoch 46/50\n",
            "32/32 [==============================] - 43s 1s/step - loss: 7.9138 - accuracy: 0.4810 - val_loss: 5.4585 - val_accuracy: 0.6420\n",
            "Epoch 47/50\n",
            "32/32 [==============================] - 43s 1s/step - loss: 7.7920 - accuracy: 0.4890 - val_loss: 5.1986 - val_accuracy: 0.6591\n",
            "Epoch 48/50\n",
            "32/32 [==============================] - 43s 1s/step - loss: 7.7920 - accuracy: 0.4890 - val_loss: 5.2852 - val_accuracy: 0.6534\n",
            "Epoch 49/50\n",
            "32/32 [==============================] - 43s 1s/step - loss: 7.8529 - accuracy: 0.4850 - val_loss: 5.2852 - val_accuracy: 0.6534\n",
            "Epoch 50/50\n",
            "32/32 [==============================] - 43s 1s/step - loss: 7.6703 - accuracy: 0.4970 - val_loss: 5.2852 - val_accuracy: 0.6534\n"
          ],
          "name": "stdout"
        }
      ]
    },
    {
      "cell_type": "markdown",
      "metadata": {
        "id": "FNTHjUddtCBB"
      },
      "source": [
        "# Custom CNN Model with Image Manipulations\n",
        "\n",
        "To simulate an increase in a sample of image, you can apply image manipulation techniques: cropping, rotation, stretching, etc. Luckily Keras has some handy functions for us to apply these techniques to our mountain and forest example. Simply, you should be able to modify our image generator for the problem. Check out these resources to help you get started: \n",
        "\n",
        "1. [Keras `ImageGenerator` Class](https://keras.io/preprocessing/image/#imagedatagenerator-class)\n",
        "2. [Building a powerful image classifier with very little data](https://blog.keras.io/building-powerful-image-classification-models-using-very-little-data.html)\n",
        " "
      ]
    },
    {
      "cell_type": "code",
      "metadata": {
        "id": "XKioBv3WtCBB",
        "colab": {
          "base_uri": "https://localhost:8080/",
          "height": 204
        },
        "outputId": "e04c326a-cc5a-47d0-e8b2-db88f97ee6e6"
      },
      "source": [
        "batch_sizes = []\n",
        "\n",
        "for exp, result in zip([history2], [\"custom model\"]):\n",
        "\n",
        "  df = pd.DataFrame.from_dict(exp.history)\n",
        "  df['epoch'] = df.index.values\n",
        "  df['model_name'] = result\n",
        "\n",
        "  batch_sizes.append(df)\n",
        "\n",
        "df = pd.concat(batch_sizes)\n",
        "df['model_name'] = df['model_name'].astype('str')\n",
        "df.head()"
      ],
      "execution_count": 38,
      "outputs": [
        {
          "output_type": "execute_result",
          "data": {
            "text/html": [
              "<div>\n",
              "<style scoped>\n",
              "    .dataframe tbody tr th:only-of-type {\n",
              "        vertical-align: middle;\n",
              "    }\n",
              "\n",
              "    .dataframe tbody tr th {\n",
              "        vertical-align: top;\n",
              "    }\n",
              "\n",
              "    .dataframe thead th {\n",
              "        text-align: right;\n",
              "    }\n",
              "</style>\n",
              "<table border=\"1\" class=\"dataframe\">\n",
              "  <thead>\n",
              "    <tr style=\"text-align: right;\">\n",
              "      <th></th>\n",
              "      <th>loss</th>\n",
              "      <th>accuracy</th>\n",
              "      <th>val_loss</th>\n",
              "      <th>val_accuracy</th>\n",
              "      <th>epoch</th>\n",
              "      <th>model_name</th>\n",
              "    </tr>\n",
              "  </thead>\n",
              "  <tbody>\n",
              "    <tr>\n",
              "      <th>0</th>\n",
              "      <td>7.883339</td>\n",
              "      <td>0.483034</td>\n",
              "      <td>5.198605</td>\n",
              "      <td>0.659091</td>\n",
              "      <td>0</td>\n",
              "      <td>custom model</td>\n",
              "    </tr>\n",
              "    <tr>\n",
              "      <th>1</th>\n",
              "      <td>7.700714</td>\n",
              "      <td>0.495010</td>\n",
              "      <td>5.458534</td>\n",
              "      <td>0.642045</td>\n",
              "      <td>1</td>\n",
              "      <td>custom model</td>\n",
              "    </tr>\n",
              "    <tr>\n",
              "      <th>2</th>\n",
              "      <td>7.792027</td>\n",
              "      <td>0.489022</td>\n",
              "      <td>5.458534</td>\n",
              "      <td>0.642045</td>\n",
              "      <td>2</td>\n",
              "      <td>custom model</td>\n",
              "    </tr>\n",
              "    <tr>\n",
              "      <th>3</th>\n",
              "      <td>7.883338</td>\n",
              "      <td>0.483034</td>\n",
              "      <td>5.371891</td>\n",
              "      <td>0.647727</td>\n",
              "      <td>3</td>\n",
              "      <td>custom model</td>\n",
              "    </tr>\n",
              "    <tr>\n",
              "      <th>4</th>\n",
              "      <td>7.852901</td>\n",
              "      <td>0.485030</td>\n",
              "      <td>5.285247</td>\n",
              "      <td>0.653409</td>\n",
              "      <td>4</td>\n",
              "      <td>custom model</td>\n",
              "    </tr>\n",
              "  </tbody>\n",
              "</table>\n",
              "</div>"
            ],
            "text/plain": [
              "       loss  accuracy  val_loss  val_accuracy  epoch    model_name\n",
              "0  7.883339  0.483034  5.198605      0.659091      0  custom model\n",
              "1  7.700714  0.495010  5.458534      0.642045      1  custom model\n",
              "2  7.792027  0.489022  5.458534      0.642045      2  custom model\n",
              "3  7.883338  0.483034  5.371891      0.647727      3  custom model\n",
              "4  7.852901  0.485030  5.285247      0.653409      4  custom model"
            ]
          },
          "metadata": {
            "tags": []
          },
          "execution_count": 38
        }
      ]
    },
    {
      "cell_type": "code",
      "metadata": {
        "colab": {
          "base_uri": "https://localhost:8080/",
          "height": 279
        },
        "id": "6i4gvn57dEhA",
        "outputId": "14c36d8d-a4cb-486b-c59d-9844cf75d5a3"
      },
      "source": [
        "sns.lineplot(x='epoch', y='val_accuracy', hue='model_name', data=df);"
      ],
      "execution_count": 39,
      "outputs": [
        {
          "output_type": "display_data",
          "data": {
            "image/png": "[encoded data removed]",
            "text/plain": [
              "<Figure size 432x288 with 1 Axes>"
            ]
          },
          "metadata": {
            "tags": [],
            "needs_background": "light"
          }
        }
      ]
    },
    {
      "cell_type": "code",
      "metadata": {
        "colab": {
          "base_uri": "https://localhost:8080/",
          "height": 279
        },
        "id": "fnak0WyadH6J",
        "outputId": "de7f4f12-c274-4dc3-89f9-3434bdd184bd"
      },
      "source": [
        "sns.lineplot(x='epoch', y='val_loss', hue='model_name', data=df);"
      ],
      "execution_count": 40,
      "outputs": [
        {
          "output_type": "display_data",
          "data": {
            "image/png": "[encoded data removed]",
            "text/plain": [
              "<Figure size 432x288 with 1 Axes>"
            ]
          },
          "metadata": {
            "tags": [],
            "needs_background": "light"
          }
        }
      ]
    },
    {
      "cell_type": "markdown",
      "metadata": {
        "id": "uT3UV3gap9H6"
      },
      "source": [
        "# Resources and Stretch Goals\n",
        "\n",
        "Stretch goals\n",
        "- Enhance your code to use classes/functions and accept terms to search and classes to look for in recognizing the downloaded images (e.g. download images of parties, recognize all that contain balloons)\n",
        "- Check out [other available pretrained networks](https://tfhub.dev), try some and compare\n",
        "- Image recognition/classification is somewhat solved, but *relationships* between entities and describing an image is not - check out some of the extended resources (e.g. [Visual Genome](https://visualgenome.org/)) on the topic\n",
        "- Transfer learning - using images you source yourself, [retrain a classifier](https://www.tensorflow.org/hub/tutorials/image_retraining) with a new category\n",
        "- (Not CNN related) Use [piexif](https://pypi.org/project/piexif/) to check out the metadata of images passed in to your system - see if they're from a national park! (Note - many images lack GPS metadata, so this won't work in most cases, but still cool)\n",
        "\n",
        "Resources\n",
        "- [Deep Residual Learning for Image Recognition](https://arxiv.org/abs/1512.03385) - influential paper (introduced ResNet)\n",
        "- [YOLO: Real-Time Object Detection](https://pjreddie.com/darknet/yolo/) - an influential convolution based object detection system, focused on inference speed (for applications to e.g. self driving vehicles)\n",
        "- [R-CNN, Fast R-CNN, Faster R-CNN, YOLO](https://towardsdatascience.com/r-cnn-fast-r-cnn-faster-r-cnn-yolo-object-detection-algorithms-36d53571365e) - comparison of object detection systems\n",
        "- [Common Objects in Context](http://cocodataset.org/) - a large-scale object detection, segmentation, and captioning dataset\n",
        "- [Visual Genome](https://visualgenome.org/) - a dataset, a knowledge base, an ongoing effort to connect structured image concepts to language"
      ]
    }
  ]
}